{
 "cells": [
  {
   "cell_type": "code",
   "execution_count": 20,
   "id": "51186deb",
   "metadata": {},
   "outputs": [],
   "source": [
    "import numpy as np \n",
    "import pandas as pd\n",
    "import seaborn as sns\n",
    "import matplotlib.pyplot as plt\n",
    "from scipy import stats\n",
    "from scipy.stats import contingency"
   ]
  },
  {
   "cell_type": "code",
   "execution_count": 2,
   "id": "0d9b5c6f",
   "metadata": {},
   "outputs": [],
   "source": [
    "data = pd.read_csv('Glassdoor Gender Pay Gap.csv')"
   ]
  },
  {
   "cell_type": "code",
   "execution_count": 4,
   "id": "ce979f3f",
   "metadata": {},
   "outputs": [
    {
     "data": {
      "text/html": [
       "<div>\n",
       "<style scoped>\n",
       "    .dataframe tbody tr th:only-of-type {\n",
       "        vertical-align: middle;\n",
       "    }\n",
       "\n",
       "    .dataframe tbody tr th {\n",
       "        vertical-align: top;\n",
       "    }\n",
       "\n",
       "    .dataframe thead th {\n",
       "        text-align: right;\n",
       "    }\n",
       "</style>\n",
       "<table border=\"1\" class=\"dataframe\">\n",
       "  <thead>\n",
       "    <tr style=\"text-align: right;\">\n",
       "      <th></th>\n",
       "      <th>JobTitle</th>\n",
       "      <th>Gender</th>\n",
       "      <th>Age</th>\n",
       "      <th>PerfEval</th>\n",
       "      <th>Education</th>\n",
       "      <th>Dept</th>\n",
       "      <th>Seniority</th>\n",
       "      <th>BasePay</th>\n",
       "      <th>Bonus</th>\n",
       "    </tr>\n",
       "  </thead>\n",
       "  <tbody>\n",
       "    <tr>\n",
       "      <th>0</th>\n",
       "      <td>Graphic Designer</td>\n",
       "      <td>Female</td>\n",
       "      <td>18</td>\n",
       "      <td>5</td>\n",
       "      <td>College</td>\n",
       "      <td>Operations</td>\n",
       "      <td>2</td>\n",
       "      <td>42363</td>\n",
       "      <td>9938</td>\n",
       "    </tr>\n",
       "    <tr>\n",
       "      <th>1</th>\n",
       "      <td>Software Engineer</td>\n",
       "      <td>Male</td>\n",
       "      <td>21</td>\n",
       "      <td>5</td>\n",
       "      <td>College</td>\n",
       "      <td>Management</td>\n",
       "      <td>5</td>\n",
       "      <td>108476</td>\n",
       "      <td>11128</td>\n",
       "    </tr>\n",
       "    <tr>\n",
       "      <th>2</th>\n",
       "      <td>Warehouse Associate</td>\n",
       "      <td>Female</td>\n",
       "      <td>19</td>\n",
       "      <td>4</td>\n",
       "      <td>PhD</td>\n",
       "      <td>Administration</td>\n",
       "      <td>5</td>\n",
       "      <td>90208</td>\n",
       "      <td>9268</td>\n",
       "    </tr>\n",
       "    <tr>\n",
       "      <th>3</th>\n",
       "      <td>Software Engineer</td>\n",
       "      <td>Male</td>\n",
       "      <td>20</td>\n",
       "      <td>5</td>\n",
       "      <td>Masters</td>\n",
       "      <td>Sales</td>\n",
       "      <td>4</td>\n",
       "      <td>108080</td>\n",
       "      <td>10154</td>\n",
       "    </tr>\n",
       "    <tr>\n",
       "      <th>4</th>\n",
       "      <td>Graphic Designer</td>\n",
       "      <td>Male</td>\n",
       "      <td>26</td>\n",
       "      <td>5</td>\n",
       "      <td>Masters</td>\n",
       "      <td>Engineering</td>\n",
       "      <td>5</td>\n",
       "      <td>99464</td>\n",
       "      <td>9319</td>\n",
       "    </tr>\n",
       "  </tbody>\n",
       "</table>\n",
       "</div>"
      ],
      "text/plain": [
       "              JobTitle  Gender  Age  PerfEval Education            Dept  \\\n",
       "0     Graphic Designer  Female   18         5   College      Operations   \n",
       "1    Software Engineer    Male   21         5   College      Management   \n",
       "2  Warehouse Associate  Female   19         4       PhD  Administration   \n",
       "3    Software Engineer    Male   20         5   Masters           Sales   \n",
       "4     Graphic Designer    Male   26         5   Masters     Engineering   \n",
       "\n",
       "   Seniority  BasePay  Bonus  \n",
       "0          2    42363   9938  \n",
       "1          5   108476  11128  \n",
       "2          5    90208   9268  \n",
       "3          4   108080  10154  \n",
       "4          5    99464   9319  "
      ]
     },
     "execution_count": 4,
     "metadata": {},
     "output_type": "execute_result"
    }
   ],
   "source": [
    "data.head()"
   ]
  },
  {
   "cell_type": "code",
   "execution_count": 5,
   "id": "ddee1d69",
   "metadata": {},
   "outputs": [
    {
     "name": "stdout",
     "output_type": "stream",
     "text": [
      "<class 'pandas.core.frame.DataFrame'>\n",
      "RangeIndex: 1000 entries, 0 to 999\n",
      "Data columns (total 9 columns):\n",
      " #   Column     Non-Null Count  Dtype \n",
      "---  ------     --------------  ----- \n",
      " 0   JobTitle   1000 non-null   object\n",
      " 1   Gender     1000 non-null   object\n",
      " 2   Age        1000 non-null   int64 \n",
      " 3   PerfEval   1000 non-null   int64 \n",
      " 4   Education  1000 non-null   object\n",
      " 5   Dept       1000 non-null   object\n",
      " 6   Seniority  1000 non-null   int64 \n",
      " 7   BasePay    1000 non-null   int64 \n",
      " 8   Bonus      1000 non-null   int64 \n",
      "dtypes: int64(5), object(4)\n",
      "memory usage: 70.4+ KB\n"
     ]
    }
   ],
   "source": [
    "data.info()"
   ]
  },
  {
   "cell_type": "code",
   "execution_count": 6,
   "id": "b2ac5520",
   "metadata": {},
   "outputs": [
    {
     "data": {
      "text/plain": [
       "(1000, 9)"
      ]
     },
     "execution_count": 6,
     "metadata": {},
     "output_type": "execute_result"
    }
   ],
   "source": [
    "data.shape"
   ]
  },
  {
   "cell_type": "code",
   "execution_count": 7,
   "id": "7f1b2852",
   "metadata": {},
   "outputs": [
    {
     "data": {
      "text/plain": [
       "JobTitle     0\n",
       "Gender       0\n",
       "Age          0\n",
       "PerfEval     0\n",
       "Education    0\n",
       "Dept         0\n",
       "Seniority    0\n",
       "BasePay      0\n",
       "Bonus        0\n",
       "dtype: int64"
      ]
     },
     "execution_count": 7,
     "metadata": {},
     "output_type": "execute_result"
    }
   ],
   "source": [
    "data.isna().sum()"
   ]
  },
  {
   "cell_type": "code",
   "execution_count": 8,
   "id": "ccc6172b",
   "metadata": {},
   "outputs": [
    {
     "data": {
      "text/plain": [
       "JobTitle     object\n",
       "Gender       object\n",
       "Age           int64\n",
       "PerfEval      int64\n",
       "Education    object\n",
       "Dept         object\n",
       "Seniority     int64\n",
       "BasePay       int64\n",
       "Bonus         int64\n",
       "dtype: object"
      ]
     },
     "execution_count": 8,
     "metadata": {},
     "output_type": "execute_result"
    }
   ],
   "source": [
    "data.dtypes"
   ]
  },
  {
   "cell_type": "code",
   "execution_count": 9,
   "id": "64ae15c0",
   "metadata": {},
   "outputs": [
    {
     "data": {
      "text/html": [
       "<div>\n",
       "<style scoped>\n",
       "    .dataframe tbody tr th:only-of-type {\n",
       "        vertical-align: middle;\n",
       "    }\n",
       "\n",
       "    .dataframe tbody tr th {\n",
       "        vertical-align: top;\n",
       "    }\n",
       "\n",
       "    .dataframe thead th {\n",
       "        text-align: right;\n",
       "    }\n",
       "</style>\n",
       "<table border=\"1\" class=\"dataframe\">\n",
       "  <thead>\n",
       "    <tr style=\"text-align: right;\">\n",
       "      <th></th>\n",
       "      <th>Age</th>\n",
       "      <th>PerfEval</th>\n",
       "      <th>Seniority</th>\n",
       "      <th>BasePay</th>\n",
       "      <th>Bonus</th>\n",
       "    </tr>\n",
       "  </thead>\n",
       "  <tbody>\n",
       "    <tr>\n",
       "      <th>count</th>\n",
       "      <td>1000.000000</td>\n",
       "      <td>1000.000000</td>\n",
       "      <td>1000.000000</td>\n",
       "      <td>1000.000000</td>\n",
       "      <td>1000.000000</td>\n",
       "    </tr>\n",
       "    <tr>\n",
       "      <th>mean</th>\n",
       "      <td>41.393000</td>\n",
       "      <td>3.037000</td>\n",
       "      <td>2.971000</td>\n",
       "      <td>94472.653000</td>\n",
       "      <td>6467.161000</td>\n",
       "    </tr>\n",
       "    <tr>\n",
       "      <th>std</th>\n",
       "      <td>14.294856</td>\n",
       "      <td>1.423959</td>\n",
       "      <td>1.395029</td>\n",
       "      <td>25337.493272</td>\n",
       "      <td>2004.377365</td>\n",
       "    </tr>\n",
       "    <tr>\n",
       "      <th>min</th>\n",
       "      <td>18.000000</td>\n",
       "      <td>1.000000</td>\n",
       "      <td>1.000000</td>\n",
       "      <td>34208.000000</td>\n",
       "      <td>1703.000000</td>\n",
       "    </tr>\n",
       "    <tr>\n",
       "      <th>25%</th>\n",
       "      <td>29.000000</td>\n",
       "      <td>2.000000</td>\n",
       "      <td>2.000000</td>\n",
       "      <td>76850.250000</td>\n",
       "      <td>4849.500000</td>\n",
       "    </tr>\n",
       "    <tr>\n",
       "      <th>50%</th>\n",
       "      <td>41.000000</td>\n",
       "      <td>3.000000</td>\n",
       "      <td>3.000000</td>\n",
       "      <td>93327.500000</td>\n",
       "      <td>6507.000000</td>\n",
       "    </tr>\n",
       "    <tr>\n",
       "      <th>75%</th>\n",
       "      <td>54.250000</td>\n",
       "      <td>4.000000</td>\n",
       "      <td>4.000000</td>\n",
       "      <td>111558.000000</td>\n",
       "      <td>8026.000000</td>\n",
       "    </tr>\n",
       "    <tr>\n",
       "      <th>max</th>\n",
       "      <td>65.000000</td>\n",
       "      <td>5.000000</td>\n",
       "      <td>5.000000</td>\n",
       "      <td>179726.000000</td>\n",
       "      <td>11293.000000</td>\n",
       "    </tr>\n",
       "  </tbody>\n",
       "</table>\n",
       "</div>"
      ],
      "text/plain": [
       "               Age     PerfEval    Seniority        BasePay         Bonus\n",
       "count  1000.000000  1000.000000  1000.000000    1000.000000   1000.000000\n",
       "mean     41.393000     3.037000     2.971000   94472.653000   6467.161000\n",
       "std      14.294856     1.423959     1.395029   25337.493272   2004.377365\n",
       "min      18.000000     1.000000     1.000000   34208.000000   1703.000000\n",
       "25%      29.000000     2.000000     2.000000   76850.250000   4849.500000\n",
       "50%      41.000000     3.000000     3.000000   93327.500000   6507.000000\n",
       "75%      54.250000     4.000000     4.000000  111558.000000   8026.000000\n",
       "max      65.000000     5.000000     5.000000  179726.000000  11293.000000"
      ]
     },
     "execution_count": 9,
     "metadata": {},
     "output_type": "execute_result"
    }
   ],
   "source": [
    "data.describe()"
   ]
  },
  {
   "cell_type": "markdown",
   "id": "8c49651c",
   "metadata": {},
   "source": [
    "#"
   ]
  },
  {
   "cell_type": "markdown",
   "id": "d0dfc790",
   "metadata": {},
   "source": [
    "# 2-We want to know whether men and women choose different departments. (and if so which department)"
   ]
  },
  {
   "cell_type": "markdown",
   "id": "fad1d186",
   "metadata": {},
   "source": [
    "#"
   ]
  },
  {
   "cell_type": "code",
   "execution_count": 10,
   "id": "15a06c4c",
   "metadata": {},
   "outputs": [
    {
     "data": {
      "text/html": [
       "<div>\n",
       "<style scoped>\n",
       "    .dataframe tbody tr th:only-of-type {\n",
       "        vertical-align: middle;\n",
       "    }\n",
       "\n",
       "    .dataframe tbody tr th {\n",
       "        vertical-align: top;\n",
       "    }\n",
       "\n",
       "    .dataframe thead th {\n",
       "        text-align: right;\n",
       "    }\n",
       "</style>\n",
       "<table border=\"1\" class=\"dataframe\">\n",
       "  <thead>\n",
       "    <tr style=\"text-align: right;\">\n",
       "      <th></th>\n",
       "      <th>count</th>\n",
       "    </tr>\n",
       "    <tr>\n",
       "      <th>Dept</th>\n",
       "      <th></th>\n",
       "    </tr>\n",
       "  </thead>\n",
       "  <tbody>\n",
       "    <tr>\n",
       "      <th>Operations</th>\n",
       "      <td>210</td>\n",
       "    </tr>\n",
       "    <tr>\n",
       "      <th>Sales</th>\n",
       "      <td>207</td>\n",
       "    </tr>\n",
       "    <tr>\n",
       "      <th>Management</th>\n",
       "      <td>198</td>\n",
       "    </tr>\n",
       "    <tr>\n",
       "      <th>Administration</th>\n",
       "      <td>193</td>\n",
       "    </tr>\n",
       "    <tr>\n",
       "      <th>Engineering</th>\n",
       "      <td>192</td>\n",
       "    </tr>\n",
       "  </tbody>\n",
       "</table>\n",
       "</div>"
      ],
      "text/plain": [
       "                count\n",
       "Dept                 \n",
       "Operations        210\n",
       "Sales             207\n",
       "Management        198\n",
       "Administration    193\n",
       "Engineering       192"
      ]
     },
     "execution_count": 10,
     "metadata": {},
     "output_type": "execute_result"
    }
   ],
   "source": [
    "data['Dept'].value_counts().to_frame()"
   ]
  },
  {
   "cell_type": "code",
   "execution_count": 11,
   "id": "6c1dec19",
   "metadata": {},
   "outputs": [
    {
     "data": {
      "text/html": [
       "<div>\n",
       "<style scoped>\n",
       "    .dataframe tbody tr th:only-of-type {\n",
       "        vertical-align: middle;\n",
       "    }\n",
       "\n",
       "    .dataframe tbody tr th {\n",
       "        vertical-align: top;\n",
       "    }\n",
       "\n",
       "    .dataframe thead th {\n",
       "        text-align: right;\n",
       "    }\n",
       "</style>\n",
       "<table border=\"1\" class=\"dataframe\">\n",
       "  <thead>\n",
       "    <tr style=\"text-align: right;\">\n",
       "      <th>Gender</th>\n",
       "      <th>Female</th>\n",
       "      <th>Male</th>\n",
       "    </tr>\n",
       "    <tr>\n",
       "      <th>Dept</th>\n",
       "      <th></th>\n",
       "      <th></th>\n",
       "    </tr>\n",
       "  </thead>\n",
       "  <tbody>\n",
       "    <tr>\n",
       "      <th>Administration</th>\n",
       "      <td>95</td>\n",
       "      <td>98</td>\n",
       "    </tr>\n",
       "    <tr>\n",
       "      <th>Engineering</th>\n",
       "      <td>89</td>\n",
       "      <td>103</td>\n",
       "    </tr>\n",
       "    <tr>\n",
       "      <th>Management</th>\n",
       "      <td>87</td>\n",
       "      <td>111</td>\n",
       "    </tr>\n",
       "    <tr>\n",
       "      <th>Operations</th>\n",
       "      <td>96</td>\n",
       "      <td>114</td>\n",
       "    </tr>\n",
       "    <tr>\n",
       "      <th>Sales</th>\n",
       "      <td>101</td>\n",
       "      <td>106</td>\n",
       "    </tr>\n",
       "  </tbody>\n",
       "</table>\n",
       "</div>"
      ],
      "text/plain": [
       "Gender          Female  Male\n",
       "Dept                        \n",
       "Administration      95    98\n",
       "Engineering         89   103\n",
       "Management          87   111\n",
       "Operations          96   114\n",
       "Sales              101   106"
      ]
     },
     "execution_count": 11,
     "metadata": {},
     "output_type": "execute_result"
    }
   ],
   "source": [
    "data_gender = pd.crosstab(data['Dept'], data['Gender'])\n",
    "data_gender"
   ]
  },
  {
   "cell_type": "code",
   "execution_count": 13,
   "id": "2c7c46f0",
   "metadata": {},
   "outputs": [
    {
     "data": {
      "text/html": [
       "<div>\n",
       "<style scoped>\n",
       "    .dataframe tbody tr th:only-of-type {\n",
       "        vertical-align: middle;\n",
       "    }\n",
       "\n",
       "    .dataframe tbody tr th {\n",
       "        vertical-align: top;\n",
       "    }\n",
       "\n",
       "    .dataframe thead th {\n",
       "        text-align: right;\n",
       "    }\n",
       "</style>\n",
       "<table border=\"1\" class=\"dataframe\">\n",
       "  <thead>\n",
       "    <tr style=\"text-align: right;\">\n",
       "      <th>Gender</th>\n",
       "      <th>Female</th>\n",
       "      <th>Male</th>\n",
       "    </tr>\n",
       "    <tr>\n",
       "      <th>Dept</th>\n",
       "      <th></th>\n",
       "      <th></th>\n",
       "    </tr>\n",
       "  </thead>\n",
       "  <tbody>\n",
       "    <tr>\n",
       "      <th>Administration</th>\n",
       "      <td>0.202991</td>\n",
       "      <td>0.184211</td>\n",
       "    </tr>\n",
       "    <tr>\n",
       "      <th>Engineering</th>\n",
       "      <td>0.190171</td>\n",
       "      <td>0.193609</td>\n",
       "    </tr>\n",
       "    <tr>\n",
       "      <th>Management</th>\n",
       "      <td>0.185897</td>\n",
       "      <td>0.208647</td>\n",
       "    </tr>\n",
       "    <tr>\n",
       "      <th>Operations</th>\n",
       "      <td>0.205128</td>\n",
       "      <td>0.214286</td>\n",
       "    </tr>\n",
       "    <tr>\n",
       "      <th>Sales</th>\n",
       "      <td>0.215812</td>\n",
       "      <td>0.199248</td>\n",
       "    </tr>\n",
       "  </tbody>\n",
       "</table>\n",
       "</div>"
      ],
      "text/plain": [
       "Gender            Female      Male\n",
       "Dept                              \n",
       "Administration  0.202991  0.184211\n",
       "Engineering     0.190171  0.193609\n",
       "Management      0.185897  0.208647\n",
       "Operations      0.205128  0.214286\n",
       "Sales           0.215812  0.199248"
      ]
     },
     "execution_count": 13,
     "metadata": {},
     "output_type": "execute_result"
    }
   ],
   "source": [
    "joint_dis_dept = data_gender/data_gender.sum()\n",
    "joint_dis_dept"
   ]
  },
  {
   "cell_type": "code",
   "execution_count": 19,
   "id": "86653bde",
   "metadata": {},
   "outputs": [
    {
     "data": {
      "image/png": "[encoded data removed]",
      "text/plain": [
       "<Figure size 640x480 with 1 Axes>"
      ]
     },
     "metadata": {},
     "output_type": "display_data"
    }
   ],
   "source": [
    "sns.countplot(data=data, x='Dept', hue='Gender')\n",
    "plt.xticks(rotation=40)\n",
    "plt.show()"
   ]
  },
  {
   "cell_type": "code",
   "execution_count": 21,
   "id": "4683160b",
   "metadata": {},
   "outputs": [
    {
     "name": "stdout",
     "output_type": "stream",
     "text": [
      "X2: 1.5505374579212654, P value: 0.8176532590847562, degree of freedom: 4\n"
     ]
    }
   ],
   "source": [
    "x2, p_value, dof, expected_freq = stats.chi2_contingency(data_gender)\n",
    "print(f\"X2: {x2}, P value: {p_value}, degree of freedom: {dof}\")"
   ]
  },
  {
   "cell_type": "markdown",
   "id": "e109a446",
   "metadata": {},
   "source": [
    "### There is no big difference between men and women"
   ]
  },
  {
   "cell_type": "code",
   "execution_count": 23,
   "id": "0bd50e9c",
   "metadata": {},
   "outputs": [
    {
     "data": {
      "text/plain": [
       "<Axes: xlabel='Gender', ylabel='Dept'>"
      ]
     },
     "execution_count": 23,
     "metadata": {},
     "output_type": "execute_result"
    },
    {
     "data": {
      "image/png": "[encoded data removed]",
      "text/plain": [
       "<Figure size 640x480 with 2 Axes>"
      ]
     },
     "metadata": {},
     "output_type": "display_data"
    }
   ],
   "source": [
    "sns.heatmap(data_gender,cmap='RdBu')"
   ]
  },
  {
   "cell_type": "code",
   "execution_count": null,
   "id": "dbe56901",
   "metadata": {},
   "outputs": [],
   "source": []
  }
 ],
 "metadata": {
  "kernelspec": {
   "display_name": "Python 3 (Spyder)",
   "language": "python3",
   "name": "python3"
  },
  "language_info": {
   "codemirror_mode": {
    "name": "ipython",
    "version": 3
   },
   "file_extension": ".py",
   "mimetype": "text/x-python",
   "name": "python",
   "nbconvert_exporter": "python",
   "pygments_lexer": "ipython3",
   "version": "3.10.9"
  }
 },
 "nbformat": 4,
 "nbformat_minor": 5
}
